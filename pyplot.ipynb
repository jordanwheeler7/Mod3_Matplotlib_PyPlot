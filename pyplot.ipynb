{
 "cells": [
  {
   "cell_type": "markdown",
   "metadata": {},
   "source": [
    "# Web Mining and Applied NLP (44-620)\n",
    "\n",
    "## Matplotlib and pyplot\n",
    "\n",
    "### Student Name: Jordan Wheeler\n",
    "\n",
    "Perform the tasks described in the Markdown cells below.  When you have completed the assignment make sure your code cells have all been run (and have output beneath them) and ensure you have committed and pushed ALL of your changes to your assignment repository.\n",
    "\n",
    "Every question that requires you to write code will have a code cell underneath it; you may either write your entire solution in that cell or write it in a python file (`.py`), then import and run the appropriate code to answer the question.\n",
    "\n",
    "Do not use other external modules except `matplotlib` and `pyplot` (e.g. `math`, etc) for this assignment unless you are explicitly instructed to, though you may use built in python functions (`min`, `max`, etc) as you wish.\n",
    "\n",
    "For all of these questions, your plots must have an appropriate title and labeled axes.  Use the Matplotlib documentation as necessary to guide you through these exercises.\n",
    "\n"
   ]
  },
  {
   "cell_type": "markdown",
   "metadata": {
    "tags": []
   },
   "source": [
    "## Question 1"
   ]
  },
  {
   "cell_type": "markdown",
   "metadata": {},
   "source": [
    "1. Given the text below, create a bar plot (or a horizontal bar plot) that shows the frequency distribution of characters in the string. \n",
    "A dictionary has been created for you containing the characters and the frequencies of the characters.\n",
    "Make sure your bar plot has the bars labelled correctly (with the character it represents the frequency of).\n"
   ]
  },
  {
   "cell_type": "code",
   "execution_count": 2,
   "metadata": {
    "tags": []
   },
   "outputs": [
    {
     "name": "stdout",
     "output_type": "stream",
     "text": [
      "All prereqs installed.\n",
      "Package            Version\n",
      "------------------ --------------------\n",
      "anyio              3.7.0\n",
      "appdirs            1.4.4\n",
      "asgiref            3.7.2\n",
      "asttokens          2.2.1\n",
      "backcall           0.2.0\n",
      "click              8.1.3\n",
      "colorama           0.4.6\n",
      "comm               0.1.3\n",
      "contextvars        2.4\n",
      "debugpy            1.6.7\n",
      "decorator          5.1.1\n",
      "exceptiongroup     1.1.2\n",
      "executing          1.2.0\n",
      "h11                0.14.0\n",
      "htmltools          0.2.1\n",
      "idna               3.4\n",
      "immutables         0.19\n",
      "importlib-metadata 6.7.0\n",
      "ipykernel          6.24.0\n",
      "ipython            8.14.0\n",
      "ipywidgets         8.0.6\n",
      "jedi               0.18.2\n",
      "jupyter_client     8.3.0\n",
      "jupyter_core       5.3.1\n",
      "jupyterlab-widgets 3.0.7\n",
      "linkify-it-py      2.0.2\n",
      "markdown-it-py     3.0.0\n",
      "matplotlib-inline  0.1.6\n",
      "mdit-py-plugins    0.4.0\n",
      "mdurl              0.1.2\n",
      "nest-asyncio       1.5.6\n",
      "packaging          23.1\n",
      "parso              0.8.3\n",
      "pickleshare        0.7.5\n",
      "pip                23.1.2\n",
      "platformdirs       3.8.0\n",
      "prompt-toolkit     3.0.38\n",
      "psutil             5.9.5\n",
      "pure-eval          0.2.2\n",
      "Pygments           2.15.1\n",
      "PyJWT              2.7.0\n",
      "python-dateutil    2.8.2\n",
      "python-multipart   0.0.6\n",
      "pywin32            306\n",
      "pyzmq              25.1.0\n",
      "rsconnect-python   1.18.1.dev4+g9e7314b\n",
      "semver             2.13.0\n",
      "setuptools         58.1.0\n",
      "shiny              0.4.0\n",
      "shinyswatch        0.2.4\n",
      "six                1.16.0\n",
      "sniffio            1.3.0\n",
      "stack-data         0.6.2\n",
      "starlette          0.28.0\n",
      "tornado            6.3.2\n",
      "traitlets          5.9.0\n",
      "typing_extensions  4.7.1\n",
      "uc-micro-py        1.0.2\n",
      "uvicorn            0.22.0\n",
      "watchfiles         0.19.0\n",
      "wcwidth            0.2.6\n",
      "websockets         11.0.3\n",
      "wheel              0.40.0\n",
      "widgetsnbextension 4.0.7\n",
      "XStatic-bootswatch 3.3.7.0\n",
      "zipp               3.15.0\n"
     ]
    },
    {
     "data": {
      "image/png": "[encoded data removed]",
      "text/plain": [
       "<Figure size 640x480 with 1 Axes>"
      ]
     },
     "metadata": {},
     "output_type": "display_data"
    }
   ],
   "source": [
    "# Create and activate a Python virtual environment. \n",
    "# Before starting the project, try all these imports FIRST\n",
    "# Address any errors you get running this code cell \n",
    "# by installing the necessary packages into your active Python environment.\n",
    "# Try to resolve issues using your materials and the web.\n",
    "# If that doesn't work, ask for help in the discussion forums.\n",
    "# You can't complete the exercises until you import these - start early! \n",
    "# We also import Counter and randint (included in the Python Standard Library).\n",
    "\n",
    "from collections import Counter\n",
    "from random import randint\n",
    "import matplotlib.pyplot as plt\n",
    "\n",
    "print('All prereqs installed.')\n",
    "!pip list\n",
    "\n",
    "\n",
    "from collections import Counter\n",
    "TEXT = \"At three o’clock precisely I was at Baker Street, but Holmes had not yet returned. The landlady informed me that he had left the house shortly after eight o’clock in the morning. I sat down beside the fire, however, with the intention of awaiting him, however long he might be. I was already deeply interested in his inquiry, for, though it was surrounded by none of the grim and strange features which were associated with the two crimes which I have already recorded, still, the nature of the case and the exalted station of his client gave it a character of its own. Indeed, apart from the nature of the investigation which my friend had on hand, there was something in his masterly grasp of a situation, and his keen, incisive reasoning, which made it a pleasure to me to study his system of work, and to follow the quick, subtle methods by which he disentangled the most inextricable mysteries. So accustomed was I to his invariable success that the very possibility of his failing had ceased to enter into my head.\".lower()\n",
    "letter_freq = dict(Counter(TEXT))\n",
    "\n",
    "# make a bar plot with an appropriate title, correct xtick labels, and labeled axes\n",
    "\n",
    "#Get character count and frequencies\n",
    "\n",
    "characters = list(letter_freq.keys())\n",
    "frequencies = list(letter_freq.values())\n",
    "\n",
    "# Creating Bar\n",
    "\n",
    "plt.barh(range(len(characters)), frequencies, tick_label = characters)\n",
    "\n",
    "# Create Title and Labels\n",
    "\n",
    "plt.title(\"Frequency of Characters\")\n",
    "plt.xlabel(\"Frequency\")\n",
    "plt.ylabel(\"Character\")\n",
    "\n",
    "# Show\n",
    "\n",
    "plt.show()\n"
   ]
  },
  {
   "cell_type": "markdown",
   "metadata": {},
   "source": [
    "## Question 2"
   ]
  },
  {
   "cell_type": "markdown",
   "metadata": {},
   "source": [
    "2. Generate a sequence of at least 5 random numbers (integers are fine), and visualize the data using both `scatter` and `plot` on different axes.  You may use the index of the value as its x value in the plot."
   ]
  },
  {
   "cell_type": "code",
   "execution_count": null,
   "metadata": {},
   "outputs": [],
   "source": [
    "import numpy as np\n",
    "\n",
    "# Create Sequence\n",
    "\n"
   ]
  },
  {
   "cell_type": "markdown",
   "metadata": {},
   "source": [
    "3. Do the same question as above, but change the syle and color of both the scatter and the plot."
   ]
  },
  {
   "cell_type": "code",
   "execution_count": null,
   "metadata": {},
   "outputs": [],
   "source": []
  },
  {
   "cell_type": "markdown",
   "metadata": {},
   "source": [
    "4. Given the data sets below, plot or scatter both on the same set of axes.  You are plotting the time it takes to execute a sorting algorithm on a list of a given size; your x axis should be the size, and the y axis is time.  Assume that `insertion_sort_times[i]` is how long it took to sort a list of length `sizes[i]`.  Add a legend to your plot showing which is insertion sort and which is merge sort.  Use the variable names to determine which data is which. "
   ]
  },
  {
   "cell_type": "code",
   "execution_count": 8,
   "metadata": {},
   "outputs": [],
   "source": [
    "sizes = [10, 20, 50, 100, 1000, 5000]\n",
    "insertion_sort_times = [0.0010252999999999998, 0.0027026999999999954, 0.010147200000000002, 0.0381137, 3.6303399, 91.2180796]\n",
    "merge_sort_times = [0.00161889999999687, 0.003635600000009731, 0.0090655000000055, 0.020108000000007564, 0.2687474000000094, 1.6147050999999948]"
   ]
  }
 ],
 "metadata": {
  "kernelspec": {
   "display_name": "Python 3 (ipykernel)",
   "language": "python",
   "name": "python3"
  },
  "language_info": {
   "codemirror_mode": {
    "name": "ipython",
    "version": 3
   },
   "file_extension": ".py",
   "mimetype": "text/x-python",
   "name": "python",
   "nbconvert_exporter": "python",
   "pygments_lexer": "ipython3",
   "version": "3.9.15"
  }
 },
 "nbformat": 4,
 "nbformat_minor": 4
}
